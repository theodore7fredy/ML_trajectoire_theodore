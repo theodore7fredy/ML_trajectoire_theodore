{
 "cells": [
  {
   "cell_type": "code",
   "execution_count": 1,
   "id": "86e6d4e1-5e37-41dd-8fd4-ddaffdc8cd6a",
   "metadata": {},
   "outputs": [],
   "source": [
    "import numpy as np\n",
    "from dataset import qddset"
   ]
  },
  {
   "cell_type": "code",
   "execution_count": null,
   "id": "556383a7-9c94-4e1d-9338-f44cf01237fb",
   "metadata": {},
   "outputs": [],
   "source": []
  },
  {
   "cell_type": "markdown",
   "id": "c08977ad-351c-4467-a2f1-34df75d13077",
   "metadata": {},
   "source": [
    "# ***TRAJECTOIRES DU MODELE SPIN-BOSON***"
   ]
  },
  {
   "cell_type": "markdown",
   "id": "7669d53a-f333-43b5-ba5d-7766de10defb",
   "metadata": {},
   "source": [
    "### ***Cas Symetrique*** ($\\epsilon = 0$)"
   ]
  },
  {
   "cell_type": "code",
   "execution_count": 35,
   "id": "194a432a-d594-4a80-9a0d-b5aa456460c9",
   "metadata": {},
   "outputs": [
    {
     "name": "stdout",
     "output_type": "stream",
     "text": [
      "*****************************************\n",
      "QD3SET-1 contains trajectories propagated for reduced density matrix of spin-boson model and FMO complex. Two methods were used: Local-thermalizing Lindblad Equation of Motion (LTLME) and Hierarachical Equations of Motion (HEOM). For more details, please read our article \" Arif Ullah, Luis E. Herrera Rodriguez, Pavlo O. Dral, and Alexei A. Kananenka, QDDSET-1: A Quantum Dissipative Dynamics Dataset\" \n",
      " *******************************************\"\n",
      "Running with the extraction choice \" sym \"\n",
      "Extracting data for \" SB \"\n",
      "Extracting data for \" LTLME \"\n",
      "Extracting data from \" sb_data \" directory\n",
      "Hamiltonian = ['epsilon', 'Delta', 'Delta*', '0']\n",
      "1st trajectory :  [[ 0.00000000e+00+0.j          1.00000000e+00+0.j\n",
      "   0.00000000e+00+0.j          0.00000000e+00+0.j\n",
      "   0.00000000e+00+0.j        ]\n",
      " [ 5.00000000e-02+0.j          9.97503742e-01+0.j\n",
      "  -1.57963273e-05+0.04986353j -1.57963273e-05-0.04986353j\n",
      "   2.49625845e-03+0.j        ]\n",
      " [ 1.00000000e-01+0.j          9.90051632e-01+0.j\n",
      "  -1.19955654e-04+0.09902033j -1.19955654e-04-0.09902033j\n",
      "   9.94836756e-03+0.j        ]\n",
      " ...\n",
      " [ 1.99000000e+01+0.j          4.72688641e-01+0.j\n",
      "  -3.63831783e-01-0.01186824j -3.63831783e-01+0.01186824j\n",
      "   5.27311359e-01+0.j        ]\n",
      " [ 1.99500000e+01+0.j          4.74015007e-01+0.j\n",
      "  -3.63867738e-01-0.01456559j -3.63867738e-01+0.01456559j\n",
      "   5.25984993e-01+0.j        ]\n",
      " [ 2.00000000e+01+0.j          4.75601394e-01+0.j\n",
      "  -3.63903248e-01-0.01706875j -3.63903248e-01+0.01706875j\n",
      "   5.24398606e-01+0.j        ]]\n"
     ]
    }
   ],
   "source": [
    "param = {'extr_choice': 'sym',   # extraction choice, here we just want the calculation details \n",
    "        'systemType': 'SB',              # system type which is spin-boson model (SB)\n",
    "         'methodType': 'LTLME',           # method used for dynamics is HEOM\n",
    "        'dataPath': 'sb_data'     # datapath\n",
    "        }\n",
    "data = qddset(**param)   #  initializing parameters\n",
    "output = data.extract()  # extracting the data\n",
    "\n",
    "### Output ###\n",
    "\n",
    "# print('Calculation details = ', output.details)   # print out the calculation details\n",
    "print('Hamiltonian =' , output.H)         # print out the Hamiltonian \n",
    "traj = list(output.data.values())\n",
    "print (\"1st trajectory : \", traj[0])"
   ]
  },
  {
   "cell_type": "code",
   "execution_count": null,
   "id": "7d9940c2-9fd0-4aee-96ef-53c18b90769f",
   "metadata": {},
   "outputs": [],
   "source": []
  },
  {
   "cell_type": "code",
   "execution_count": null,
   "id": "6d182408-9082-4bc9-a099-9ff9ae8415c2",
   "metadata": {},
   "outputs": [],
   "source": []
  },
  {
   "cell_type": "markdown",
   "id": "6bfbbfb0-5aac-44d9-ac9b-d8f10a0f9019",
   "metadata": {},
   "source": [
    "### ***Cas asymetrique***($\\epsilon = 1$)"
   ]
  },
  {
   "cell_type": "code",
   "execution_count": 36,
   "id": "adf96fe8-22d4-421c-b666-89ecfe6d5b25",
   "metadata": {},
   "outputs": [
    {
     "name": "stdout",
     "output_type": "stream",
     "text": [
      "*****************************************\n",
      "QD3SET-1 contains trajectories propagated for reduced density matrix of spin-boson model and FMO complex. Two methods were used: Local-thermalizing Lindblad Equation of Motion (LTLME) and Hierarachical Equations of Motion (HEOM). For more details, please read our article \" Arif Ullah, Luis E. Herrera Rodriguez, Pavlo O. Dral, and Alexei A. Kananenka, QDDSET-1: A Quantum Dissipative Dynamics Dataset\" \n",
      " *******************************************\"\n",
      "Running with the extraction choice \" asym \"\n",
      "Extracting data for \" SB \"\n",
      "Extracting data for \" LTLME \"\n",
      "Extracting data from \" sb_data \" directory\n",
      "Hamiltonian = ['epsilon', 'Delta', 'Delta*', '0']\n",
      "1st trajectory :  [[ 0.00000000e+00+0.00000000e+00j  1.00000000e+00+0.00000000e+00j\n",
      "   0.00000000e+00+0.00000000e+00j  0.00000000e+00+0.00000000e+00j\n",
      "   0.00000000e+00+0.00000000e+00j]\n",
      " [ 5.00000000e-02+0.00000000e+00j  9.97530274e-01+0.00000000e+00j\n",
      "   2.10182650e-03+4.88951484e-02j  2.10182650e-03-4.88951484e-02j\n",
      "   2.46972554e-03+0.00000000e+00j]\n",
      " [ 1.00000000e-01+0.00000000e+00j  9.90380068e-01+0.00000000e+00j\n",
      "   6.88608370e-03+9.30946625e-02j  6.88608370e-03-9.30946625e-02j\n",
      "   9.61993159e-03+0.00000000e+00j]\n",
      " ...\n",
      " [ 1.99000000e+01+0.00000000e+00j  3.79626352e-01+0.00000000e+00j\n",
      "  -1.05676827e-01+1.18928263e-09j -1.05676827e-01-1.18928263e-09j\n",
      "   6.20373648e-01+0.00000000e+00j]\n",
      " [ 1.99500000e+01+0.00000000e+00j  3.79626352e-01+0.00000000e+00j\n",
      "  -1.05676827e-01+1.13225528e-09j -1.05676827e-01-1.13225528e-09j\n",
      "   6.20373648e-01+0.00000000e+00j]\n",
      " [ 2.00000000e+01+0.00000000e+00j  3.79626352e-01+0.00000000e+00j\n",
      "  -1.05676827e-01+1.07796067e-09j -1.05676827e-01-1.07796067e-09j\n",
      "   6.20373648e-01+0.00000000e+00j]]\n"
     ]
    }
   ],
   "source": [
    "param = {'extr_choice': 'asym',   # extraction choice, here we just want the calculation details \n",
    "        'systemType': 'SB',              # system type which is spin-boson model (SB)\n",
    "         'methodType': 'LTLME',           # method used for dynamics is HEOM\n",
    "        'dataPath': 'sb_data'     # datapath\n",
    "        }\n",
    "data = qddset(**param)   #  initializing parameters\n",
    "output = data.extract()  # extracting the data\n",
    "\n",
    "### Output ###\n",
    "\n",
    "# print('Calculation details = ', output.details)   # print out the calculation details\n",
    "print('Hamiltonian =' , output.H)         # print out the Hamiltonian \n",
    "traj = list(output.data.values())\n",
    "print (\"1st trajectory : \", traj[0])"
   ]
  },
  {
   "cell_type": "code",
   "execution_count": null,
   "id": "a22f337c-a802-45b7-a000-f56d1857e482",
   "metadata": {},
   "outputs": [],
   "source": []
  },
  {
   "cell_type": "code",
   "execution_count": null,
   "id": "2bd6e767-2244-43b6-8139-e11f437cadf2",
   "metadata": {},
   "outputs": [],
   "source": []
  },
  {
   "cell_type": "markdown",
   "id": "dff4ac4e-4357-4495-8d5e-0b44793441de",
   "metadata": {},
   "source": [
    "# ***TRAJECTOIRES DU COMPLEXE FMO A 7 SITES***"
   ]
  },
  {
   "cell_type": "markdown",
   "id": "c4e1c056-851d-4a0f-94f2-d57b01b5fe92",
   "metadata": {},
   "source": [
    "### ***site initial = 1***"
   ]
  },
  {
   "cell_type": "code",
   "execution_count": 39,
   "id": "c3ca3149-a5d1-4a01-98fc-3a224e07e3ee",
   "metadata": {},
   "outputs": [
    {
     "name": "stdout",
     "output_type": "stream",
     "text": [
      "*****************************************\n",
      "QD3SET-1 contains trajectories propagated for reduced density matrix of spin-boson model and FMO complex. Two methods were used: Local-thermalizing Lindblad Equation of Motion (LTLME) and Hierarachical Equations of Motion (HEOM). For more details, please read our article \" Arif Ullah, Luis E. Herrera Rodriguez, Pavlo O. Dral, and Alexei A. Kananenka, QDDSET-1: A Quantum Dissipative Dynamics Dataset\" \n",
      " *******************************************\"\n",
      "Running with the extraction choice \" site-1 \"\n",
      "Extracting data for \" FMO \"\n",
      "Extracting data for \" LTLME \"\n",
      "Extracting data from \" fmo_data \" directory\n",
      "Extracting data for  7 sites FMO\n",
      "Extracting data for the  following FMO type \" I \"\n",
      "1st trajectory :  [[0.00000000e+00+0.00000000e+00j 1.00000000e+00+0.00000000e+00j\n",
      "  0.00000000e+00+0.00000000e+00j ... 0.00000000e+00+0.00000000e+00j\n",
      "  0.00000000e+00+0.00000000e+00j 0.00000000e+00+0.00000000e+00j]\n",
      " [5.00000000e+00+0.00000000e+00j 8.96205220e-01+3.81439941e-19j\n",
      "  3.41174385e-02-6.69116230e-02j ... 7.14864336e-04+2.80995147e-05j\n",
      "  7.38246186e-04+4.28271638e-05j 3.95317538e-03+2.29760827e-20j]\n",
      " [1.00000000e+01+0.00000000e+00j 7.96803354e-01+1.42083978e-19j\n",
      "  5.62487017e-02-1.17167227e-01j ... 1.00367474e-03+1.31629355e-04j\n",
      "  1.20242452e-03+1.69468764e-04j 8.09871802e-03+2.79568396e-19j]\n",
      " ...\n",
      " [4.99900000e+04+0.00000000e+00j 8.48129904e-02+6.31756315e-17j\n",
      "  3.90377888e-02+3.96788157e-16j ... 1.57001227e-03-1.52847176e-16j\n",
      "  2.26256608e-03-5.66521213e-17j 2.96437241e-02-6.57263711e-18j]\n",
      " [4.99950000e+04+0.00000000e+00j 8.48129904e-02+6.31854039e-17j\n",
      "  3.90377888e-02+3.96792661e-16j ... 1.57001227e-03-1.52846995e-16j\n",
      "  2.26256608e-03-5.66518603e-17j 2.96437241e-02-6.57091389e-18j]\n",
      " [5.00000000e+04+0.00000000e+00j 8.48129904e-02+6.31756309e-17j\n",
      "  3.90377888e-02+3.96788157e-16j ... 1.57001227e-03-1.52847176e-16j\n",
      "  2.26256608e-03-5.66521213e-17j 2.96437241e-02-6.57263662e-18j]]\n"
     ]
    }
   ],
   "source": [
    "param = {'extr_choice': 'site-1',\n",
    "         'Nsites': 7,           # number of sites\n",
    "        'systemType': 'FMO',   # system type\n",
    "         'methodType': 'LTLME',  # method\n",
    "         'FMOtype': 'I',          # case-1 as explained above\n",
    "        'dataPath': 'fmo_data'   # dataPath\n",
    "        }\n",
    "data = qddset(**param) #  initializing parameters\n",
    "output = data.extract() # extracting the data\n",
    "\n",
    "### Output ###\n",
    "\n",
    "#print('Hamiltonian = ', output.H)\n",
    "# print('Calculation details = ', output.details)   \n",
    "traj = list(output.data.values())\n",
    "print (\"1st trajectory : \", traj[0])"
   ]
  },
  {
   "cell_type": "code",
   "execution_count": null,
   "id": "4af8636d-5cb5-4b86-8c56-3887a94678a0",
   "metadata": {},
   "outputs": [],
   "source": []
  },
  {
   "cell_type": "markdown",
   "id": "07ed2f98-3232-4e09-a8f7-61e0f44a1f31",
   "metadata": {},
   "source": [
    "### ***site initial = 6***"
   ]
  },
  {
   "cell_type": "code",
   "execution_count": 40,
   "id": "d0388367-bb67-4a89-bf5b-fc1cc695f699",
   "metadata": {},
   "outputs": [
    {
     "name": "stdout",
     "output_type": "stream",
     "text": [
      "*****************************************\n",
      "QD3SET-1 contains trajectories propagated for reduced density matrix of spin-boson model and FMO complex. Two methods were used: Local-thermalizing Lindblad Equation of Motion (LTLME) and Hierarachical Equations of Motion (HEOM). For more details, please read our article \" Arif Ullah, Luis E. Herrera Rodriguez, Pavlo O. Dral, and Alexei A. Kananenka, QDDSET-1: A Quantum Dissipative Dynamics Dataset\" \n",
      " *******************************************\"\n",
      "Running with the extraction choice \" site-6 \"\n",
      "Extracting data for \" FMO \"\n",
      "Extracting data for \" LTLME \"\n",
      "Extracting data from \" fmo_data \" directory\n",
      "Extracting data for  7 sites FMO\n",
      "Extracting data for the  following FMO type \" I \"\n",
      "1st trajectory :  [[ 0.00000000e+00+0.00000000e+00j  0.00000000e+00+0.00000000e+00j\n",
      "   0.00000000e+00+0.00000000e+00j ...  0.00000000e+00+0.00000000e+00j\n",
      "   0.00000000e+00+0.00000000e+00j  0.00000000e+00+0.00000000e+00j]\n",
      " [ 5.00000000e+00+0.00000000e+00j  2.97723145e-02-2.99716882e-19j\n",
      "  -4.09242815e-03-2.48881414e-05j ... -4.35148962e-03+5.57442611e-03j\n",
      "   2.64836334e-03-4.79510133e-04j  1.33029935e-03+8.01686561e-21j]\n",
      " [ 1.00000000e+01+0.00000000e+00j  4.85696651e-02-1.01649555e-18j\n",
      "  -2.37299466e-03-7.02912581e-05j ... -4.97166541e-03+8.87477323e-03j\n",
      "   4.14159566e-03-1.39799643e-03j  2.48581631e-03+6.52447408e-21j]\n",
      " ...\n",
      " [ 4.99900000e+04+0.00000000e+00j  4.21008780e-02-9.15001216e-18j\n",
      "   3.85351245e-02+3.33220901e-16j ...  7.50413790e-04-1.27433618e-16j\n",
      "   1.37208918e-03-8.69854425e-17j  4.80072649e-03+7.90426253e-19j]\n",
      " [ 4.99950000e+04+0.00000000e+00j  4.21008780e-02-9.15001216e-18j\n",
      "   3.85351245e-02+3.33220901e-16j ...  7.50413790e-04-1.27433618e-16j\n",
      "   1.37208918e-03-8.69854425e-17j  4.80072649e-03+7.90426253e-19j]\n",
      " [ 5.00000000e+04+0.00000000e+00j  4.21008780e-02-9.15001216e-18j\n",
      "   3.85351245e-02+3.33220901e-16j ...  7.50413790e-04-1.27433618e-16j\n",
      "   1.37208918e-03-8.69854425e-17j  4.80072649e-03+7.90426253e-19j]]\n"
     ]
    }
   ],
   "source": [
    "param = {'extr_choice': 'site-6',\n",
    "         'Nsites': 7,           # number of sites\n",
    "        'systemType': 'FMO',   # system type\n",
    "         'methodType': 'LTLME',  # method\n",
    "         'FMOtype': 'I',          # case-1 as explained above\n",
    "        'dataPath': 'fmo_data'   # dataPath\n",
    "        }\n",
    "data = qddset(**param) #  initializing parameters\n",
    "output = data.extract() # extracting the data\n",
    "\n",
    "### Output ###\n",
    "\n",
    "#print('Hamiltonian = ', output.H)\n",
    "# print('Calculation details = ', output.details)   \n",
    "traj = list(output.data.values())\n",
    "print (\"1st trajectory : \", traj[0])"
   ]
  },
  {
   "cell_type": "code",
   "execution_count": null,
   "id": "480f7cba-f062-42ed-a572-e64a5973438e",
   "metadata": {},
   "outputs": [],
   "source": []
  },
  {
   "cell_type": "code",
   "execution_count": null,
   "id": "bf191fa3-f758-4559-91b5-8b0974734ec6",
   "metadata": {},
   "outputs": [],
   "source": []
  },
  {
   "cell_type": "markdown",
   "id": "75983d89-24b8-4bd9-8f2e-39101cf0bef4",
   "metadata": {},
   "source": [
    "# ***TRAJECTOIRES DU COMPLEXE FMO A 8 SITES***"
   ]
  },
  {
   "cell_type": "markdown",
   "id": "f79fbefc-eb7b-45c2-9f58-952b82b34186",
   "metadata": {},
   "source": [
    "### ***Site initial = 1***"
   ]
  },
  {
   "cell_type": "code",
   "execution_count": 43,
   "id": "90ba0ac9-f5a9-4539-af31-5db6d05543b5",
   "metadata": {},
   "outputs": [
    {
     "name": "stdout",
     "output_type": "stream",
     "text": [
      "*****************************************\n",
      "QD3SET-1 contains trajectories propagated for reduced density matrix of spin-boson model and FMO complex. Two methods were used: Local-thermalizing Lindblad Equation of Motion (LTLME) and Hierarachical Equations of Motion (HEOM). For more details, please read our article \" Arif Ullah, Luis E. Herrera Rodriguez, Pavlo O. Dral, and Alexei A. Kananenka, QDDSET-1: A Quantum Dissipative Dynamics Dataset\" \n",
      " *******************************************\"\n",
      "Running with the extraction choice \" site-1 \"\n",
      "Extracting data for \" FMO \"\n",
      "Extracting data for \" LTLME \"\n",
      "Extracting data from \" fmo_data \" directory\n",
      "Extracting data for  8 sites FMO\n",
      "Extracting data for the  following FMO type \" II \"\n",
      "1st trajectory :  [[0.00000000e+00+0.00000000e+00j 1.00000000e+00+0.00000000e+00j\n",
      "  0.00000000e+00+0.00000000e+00j ... 0.00000000e+00+0.00000000e+00j\n",
      "  0.00000000e+00+0.00000000e+00j 0.00000000e+00+0.00000000e+00j]\n",
      " [5.00000000e+00+0.00000000e+00j 8.96205220e-01+3.81439941e-19j\n",
      "  3.41174385e-02-6.69116230e-02j ... 7.14864336e-04+2.80995147e-05j\n",
      "  7.38246186e-04+4.28271638e-05j 3.95317538e-03+2.29760827e-20j]\n",
      " [1.00000000e+01+0.00000000e+00j 7.96803354e-01+1.42083978e-19j\n",
      "  5.62487017e-02-1.17167227e-01j ... 1.00367474e-03+1.31629355e-04j\n",
      "  1.20242452e-03+1.69468764e-04j 8.09871802e-03+2.79568396e-19j]\n",
      " ...\n",
      " [4.99900000e+04+0.00000000e+00j 8.48129904e-02+6.31756315e-17j\n",
      "  3.90377888e-02+3.96788157e-16j ... 1.57001227e-03-1.52847176e-16j\n",
      "  2.26256608e-03-5.66521213e-17j 2.96437241e-02-6.57263711e-18j]\n",
      " [4.99950000e+04+0.00000000e+00j 8.48129904e-02+6.31854039e-17j\n",
      "  3.90377888e-02+3.96792661e-16j ... 1.57001227e-03-1.52846995e-16j\n",
      "  2.26256608e-03-5.66518603e-17j 2.96437241e-02-6.57091389e-18j]\n",
      " [5.00000000e+04+0.00000000e+00j 8.48129904e-02+6.31756309e-17j\n",
      "  3.90377888e-02+3.96788157e-16j ... 1.57001227e-03-1.52847176e-16j\n",
      "  2.26256608e-03-5.66521213e-17j 2.96437241e-02-6.57263662e-18j]]\n"
     ]
    }
   ],
   "source": [
    "param = {'extr_choice': 'site-1',\n",
    "         'Nsites': 8,           # number of sites\n",
    "        'systemType': 'FMO',   # system type\n",
    "         'methodType': 'LTLME',  # method\n",
    "         'FMOtype': 'II',          # case-1 as explained above\n",
    "        'dataPath': 'fmo_data'   # dataPath\n",
    "        }\n",
    "data = qddset(**param) #  initializing parameters\n",
    "output = data.extract() # extracting the data\n",
    "\n",
    "### Output ###\n",
    "\n",
    "#print('Hamiltonian = ', output.H)\n",
    "# print('Calculation details = ', output.details)   \n",
    "traj = list(output.data.values())\n",
    "print (\"1st trajectory : \", traj[0])"
   ]
  },
  {
   "cell_type": "code",
   "execution_count": null,
   "id": "c1194fed-6ced-4179-a9b5-774c7ba87745",
   "metadata": {},
   "outputs": [],
   "source": []
  },
  {
   "cell_type": "markdown",
   "id": "43d53b2e-5533-4d94-969e-24f08678a906",
   "metadata": {},
   "source": [
    "### ***Site initial = 6***"
   ]
  },
  {
   "cell_type": "code",
   "execution_count": 44,
   "id": "6c03b7a6-321c-4cc5-a03f-6af2178d6264",
   "metadata": {},
   "outputs": [
    {
     "name": "stdout",
     "output_type": "stream",
     "text": [
      "*****************************************\n",
      "QD3SET-1 contains trajectories propagated for reduced density matrix of spin-boson model and FMO complex. Two methods were used: Local-thermalizing Lindblad Equation of Motion (LTLME) and Hierarachical Equations of Motion (HEOM). For more details, please read our article \" Arif Ullah, Luis E. Herrera Rodriguez, Pavlo O. Dral, and Alexei A. Kananenka, QDDSET-1: A Quantum Dissipative Dynamics Dataset\" \n",
      " *******************************************\"\n",
      "Running with the extraction choice \" site-6 \"\n",
      "Extracting data for \" FMO \"\n",
      "Extracting data for \" LTLME \"\n",
      "Extracting data from \" fmo_data \" directory\n",
      "Extracting data for  8 sites FMO\n",
      "Extracting data for the  following FMO type \" II \"\n",
      "1st trajectory :  [[ 0.00000000e+00+0.00000000e+00j  0.00000000e+00+0.00000000e+00j\n",
      "   0.00000000e+00+0.00000000e+00j ...  0.00000000e+00+0.00000000e+00j\n",
      "   0.00000000e+00+0.00000000e+00j  0.00000000e+00+0.00000000e+00j]\n",
      " [ 5.00000000e+00+0.00000000e+00j  2.97723145e-02-2.99716882e-19j\n",
      "  -4.09242815e-03-2.48881414e-05j ... -4.35148962e-03+5.57442611e-03j\n",
      "   2.64836334e-03-4.79510133e-04j  1.33029935e-03+8.01686561e-21j]\n",
      " [ 1.00000000e+01+0.00000000e+00j  4.85696651e-02-1.01649555e-18j\n",
      "  -2.37299466e-03-7.02912581e-05j ... -4.97166541e-03+8.87477323e-03j\n",
      "   4.14159566e-03-1.39799643e-03j  2.48581631e-03+6.52447408e-21j]\n",
      " ...\n",
      " [ 4.99900000e+04+0.00000000e+00j  4.21008780e-02-9.15001216e-18j\n",
      "   3.85351245e-02+3.33220901e-16j ...  7.50413790e-04-1.27433618e-16j\n",
      "   1.37208918e-03-8.69854425e-17j  4.80072649e-03+7.90426253e-19j]\n",
      " [ 4.99950000e+04+0.00000000e+00j  4.21008780e-02-9.15001216e-18j\n",
      "   3.85351245e-02+3.33220901e-16j ...  7.50413790e-04-1.27433618e-16j\n",
      "   1.37208918e-03-8.69854425e-17j  4.80072649e-03+7.90426253e-19j]\n",
      " [ 5.00000000e+04+0.00000000e+00j  4.21008780e-02-9.15001216e-18j\n",
      "   3.85351245e-02+3.33220901e-16j ...  7.50413790e-04-1.27433618e-16j\n",
      "   1.37208918e-03-8.69854425e-17j  4.80072649e-03+7.90426253e-19j]]\n"
     ]
    }
   ],
   "source": [
    "param = {'extr_choice': 'site-6',\n",
    "         'Nsites': 8,           # number of sites\n",
    "        'systemType': 'FMO',   # system type\n",
    "         'methodType': 'LTLME',  # method\n",
    "         'FMOtype': 'II',          # case-1 as explained above\n",
    "        'dataPath': 'fmo_data'   # dataPath\n",
    "        }\n",
    "data = qddset(**param) #  initializing parameters\n",
    "output = data.extract() # extracting the data\n",
    "\n",
    "### Output ###\n",
    "\n",
    "#print('Hamiltonian = ', output.H)\n",
    "# print('Calculation details = ', output.details)   \n",
    "traj = list(output.data.values())\n",
    "print (\"1st trajectory : \", traj[0])"
   ]
  },
  {
   "cell_type": "code",
   "execution_count": null,
   "id": "d718dc93-514b-459d-9799-41b3c8bd29d8",
   "metadata": {},
   "outputs": [],
   "source": []
  },
  {
   "cell_type": "markdown",
   "id": "fd4b19b7-f2c4-42bd-8a8e-d30afbe5a6ed",
   "metadata": {},
   "source": [
    "### ***Site initial = 8***"
   ]
  },
  {
   "cell_type": "code",
   "execution_count": 45,
   "id": "d0a71538-35f9-4fb5-af5c-dc10b4bb1e13",
   "metadata": {},
   "outputs": [
    {
     "name": "stdout",
     "output_type": "stream",
     "text": [
      "*****************************************\n",
      "QD3SET-1 contains trajectories propagated for reduced density matrix of spin-boson model and FMO complex. Two methods were used: Local-thermalizing Lindblad Equation of Motion (LTLME) and Hierarachical Equations of Motion (HEOM). For more details, please read our article \" Arif Ullah, Luis E. Herrera Rodriguez, Pavlo O. Dral, and Alexei A. Kananenka, QDDSET-1: A Quantum Dissipative Dynamics Dataset\" \n",
      " *******************************************\"\n",
      "Running with the extraction choice \" site-8 \"\n",
      "Extracting data for \" FMO \"\n",
      "Extracting data for \" LTLME \"\n",
      "Extracting data from \" fmo_data \" directory\n",
      "Extracting data for  8 sites FMO\n",
      "Extracting data for the  following FMO type \" II \"\n",
      "1st trajectory :  [[ 0.00000000e+00+0.00000000e+00j  0.00000000e+00+0.00000000e+00j\n",
      "   0.00000000e+00+0.00000000e+00j ...  0.00000000e+00+0.00000000e+00j\n",
      "   0.00000000e+00+0.00000000e+00j  1.00000000e+00+0.00000000e+00j]\n",
      " [ 5.00000000e+00+0.00000000e+00j  1.10909559e-02-7.10443762e-20j\n",
      "  -3.08497838e-03+1.26402794e-04j ... -9.00759264e-03-5.44770416e-03j\n",
      "  -7.25215139e-03-6.84036276e-03j  9.73548373e-01+1.03093759e-19j]\n",
      " [ 1.00000000e+01+0.00000000e+00j  2.07411472e-02-1.31538140e-19j\n",
      "  -4.16922047e-03+3.79838795e-04j ... -1.65518714e-02-8.56642761e-03j\n",
      "  -1.40362036e-02-1.12936589e-02j  9.47966452e-01+1.58944020e-19j]\n",
      " ...\n",
      " [ 4.99900000e+04+0.00000000e+00j  1.04263877e-03-1.21175454e-17j\n",
      "   3.53831396e-03+1.72484879e-17j ...  8.71986721e-05-9.07608682e-17j\n",
      "   8.25355961e-05-7.42206697e-17j  6.64231713e-06+1.19643976e-20j]\n",
      " [ 4.99950000e+04+0.00000000e+00j  1.04263877e-03-1.21175454e-17j\n",
      "   3.53831396e-03+1.72484879e-17j ...  8.71986721e-05-9.07608682e-17j\n",
      "   8.25355961e-05-7.42206697e-17j  6.64231713e-06+1.19643976e-20j]\n",
      " [ 5.00000000e+04+0.00000000e+00j  1.04263877e-03-1.21175454e-17j\n",
      "   3.53831396e-03+1.72484879e-17j ...  8.71986721e-05-9.07608682e-17j\n",
      "   8.25355961e-05-7.42206697e-17j  6.64231713e-06+1.19643976e-20j]]\n"
     ]
    }
   ],
   "source": [
    "param = {'extr_choice': 'site-8',\n",
    "         'Nsites': 8,           # number of sites\n",
    "        'systemType': 'FMO',   # system type\n",
    "         'methodType': 'LTLME',  # method\n",
    "         'FMOtype': 'II',          # case-1 as explained above\n",
    "        'dataPath': 'fmo_data'   # dataPath\n",
    "        }\n",
    "data = qddset(**param) #  initializing parameters\n",
    "output = data.extract() # extracting the data\n",
    "\n",
    "### Output ###\n",
    "\n",
    "#print('Hamiltonian = ', output.H)\n",
    "# print('Calculation details = ', output.details)   \n",
    "traj = list(output.data.values())\n",
    "print (\"1st trajectory : \", traj[0])"
   ]
  },
  {
   "cell_type": "code",
   "execution_count": null,
   "id": "db849077-7882-4910-8f92-8945820b3976",
   "metadata": {},
   "outputs": [],
   "source": []
  },
  {
   "cell_type": "code",
   "execution_count": null,
   "id": "ef8d3aa4-87fb-4f06-9aa4-2342adfa9f64",
   "metadata": {},
   "outputs": [],
   "source": []
  },
  {
   "cell_type": "code",
   "execution_count": null,
   "id": "d373e9ed-4939-4d65-a7e7-3f793c5b2867",
   "metadata": {},
   "outputs": [],
   "source": []
  },
  {
   "cell_type": "code",
   "execution_count": null,
   "id": "05c8915d-ca7a-4c0e-b056-6bcf17fd5483",
   "metadata": {},
   "outputs": [],
   "source": []
  },
  {
   "cell_type": "code",
   "execution_count": null,
   "id": "2b8eb985-fe8c-4900-9e4c-1cd5fb411240",
   "metadata": {},
   "outputs": [],
   "source": []
  },
  {
   "cell_type": "code",
   "execution_count": 69,
   "id": "f2d6b5b2-aa4b-4dab-9e96-a6a204796928",
   "metadata": {},
   "outputs": [
    {
     "data": {
      "text/plain": [
       "array([[ 0.00000000e+00+0.00000000e+00j,  0.00000000e+00+0.00000000e+00j,\n",
       "         0.00000000e+00+0.00000000e+00j, ...,\n",
       "         0.00000000e+00+0.00000000e+00j,  0.00000000e+00+0.00000000e+00j,\n",
       "         1.00000000e+00+0.00000000e+00j],\n",
       "       [ 5.00000000e+00+0.00000000e+00j,  1.10909559e-02-7.10443762e-20j,\n",
       "        -3.08497838e-03+1.26402794e-04j, ...,\n",
       "        -9.00759264e-03-5.44770416e-03j, -7.25215139e-03-6.84036276e-03j,\n",
       "         9.73548373e-01+1.03093759e-19j],\n",
       "       [ 1.00000000e+01+0.00000000e+00j,  2.07411472e-02-1.31538140e-19j,\n",
       "        -4.16922047e-03+3.79838795e-04j, ...,\n",
       "        -1.65518714e-02-8.56642761e-03j, -1.40362036e-02-1.12936589e-02j,\n",
       "         9.47966452e-01+1.58944020e-19j],\n",
       "       ...,\n",
       "       [ 4.99900000e+04+0.00000000e+00j,  1.04263877e-03-1.21175454e-17j,\n",
       "         3.53831396e-03+1.72484879e-17j, ...,\n",
       "         8.71986721e-05-9.07608682e-17j,  8.25355961e-05-7.42206697e-17j,\n",
       "         6.64231713e-06+1.19643976e-20j],\n",
       "       [ 4.99950000e+04+0.00000000e+00j,  1.04263877e-03-1.21175454e-17j,\n",
       "         3.53831396e-03+1.72484879e-17j, ...,\n",
       "         8.71986721e-05-9.07608682e-17j,  8.25355961e-05-7.42206697e-17j,\n",
       "         6.64231713e-06+1.19643976e-20j],\n",
       "       [ 5.00000000e+04+0.00000000e+00j,  1.04263877e-03-1.21175454e-17j,\n",
       "         3.53831396e-03+1.72484879e-17j, ...,\n",
       "         8.71986721e-05-9.07608682e-17j,  8.25355961e-05-7.42206697e-17j,\n",
       "         6.64231713e-06+1.19643976e-20j]])"
      ]
     },
     "execution_count": 69,
     "metadata": {},
     "output_type": "execute_result"
    }
   ],
   "source": [
    "traj[0]"
   ]
  },
  {
   "cell_type": "code",
   "execution_count": 70,
   "id": "a8df08d1-663c-4c9e-9703-74972ba3c4c3",
   "metadata": {},
   "outputs": [
    {
     "data": {
      "text/plain": [
       "(10001, 65)"
      ]
     },
     "execution_count": 70,
     "metadata": {},
     "output_type": "execute_result"
    }
   ],
   "source": [
    "traj[0].shape"
   ]
  },
  {
   "cell_type": "code",
   "execution_count": 71,
   "id": "1893e39a-6391-44c8-89d0-9aa438f4bf68",
   "metadata": {},
   "outputs": [],
   "source": [
    "a = traj[0]"
   ]
  },
  {
   "cell_type": "code",
   "execution_count": 79,
   "id": "8b271330-b00a-4844-80c4-6ca2dc8f311a",
   "metadata": {},
   "outputs": [
    {
     "data": {
      "text/plain": [
       "(6.643241500281805e-06-9.350669103914716e-20j)"
      ]
     },
     "execution_count": 79,
     "metadata": {},
     "output_type": "execute_result"
    }
   ],
   "source": [
    "a[1004, 64]"
   ]
  },
  {
   "cell_type": "code",
   "execution_count": null,
   "id": "0281c1df-3690-4d6a-9b86-10a18aea40a2",
   "metadata": {},
   "outputs": [],
   "source": []
  }
 ],
 "metadata": {
  "kernelspec": {
   "display_name": "qheom",
   "language": "python",
   "name": "qheom"
  },
  "language_info": {
   "codemirror_mode": {
    "name": "ipython",
    "version": 3
   },
   "file_extension": ".py",
   "mimetype": "text/x-python",
   "name": "python",
   "nbconvert_exporter": "python",
   "pygments_lexer": "ipython3",
   "version": "3.7.4"
  }
 },
 "nbformat": 4,
 "nbformat_minor": 5
}
